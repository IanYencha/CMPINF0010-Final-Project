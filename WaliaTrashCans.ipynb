{
 "cells": [
  {
   "cell_type": "markdown",
   "metadata": {},
   "source": [
    "# Smart Trash Cans\n",
    "We'll be looking at a dataset that contains hundreds of smart trash cans in different neighborhoods accross Pittsburgh, in order to see which neighborhood has the most amount of smart trash cans.\n",
    "\n",
    "The smart trash cans, that the city of Pittsburgh has employed, have built in sensors that detect how full it is. This innovation allows the labor force in Pittsburgh to not have to waste as much time on emptying trash can, and they can use that time to tidy up their respective areas. \"'Based on our analysis, we expect that the smart litter cans will give us the ability to make process improvements that will reduce the amount of labor hours spent on emptying garbage cans by at least half,' said Matt Jacob, the project manager for the program for the Department of Innovation and Performance. 'As a result, DPW will be able to reallocate those resources to other tasks.'\" (From source: https://pittsburghpa.gov/press-releases/press-releases.html?id=2986). "
   ]
  },
  {
   "cell_type": "markdown",
   "metadata": {},
   "source": [
    "# Dataset: \n",
    "My dataset is from [WPRDC](https://data.wprdc.org/dataset/smart-trash-containers). By itself, the CSV contains several columns that do not suit my purpose (container id, assignment date, and so forth), so I decided to group it by the neighborhoods and focus on the amount of trash cans for each neighborhood. "
   ]
  },
  {
   "cell_type": "code",
   "execution_count": null,
   "metadata": {},
   "outputs": [],
   "source": [
    "import pandas as pd\n",
    "import numpy as np\n",
    "%matplotlib inline\n",
    "import matplotlib.pyplot as plt\n",
    "\n",
    "# All unique neighborhoods with a smart trash can. As you can see, you can't tell anything from this data\n",
    "SmartTCans = pd.read_csv(\"SmartTCansNew.csv\")\n",
    "print(SmartTCans[\"neighborhood\"].unique())"
   ]
  },
  {
   "cell_type": "code",
   "execution_count": 6,
   "metadata": {},
   "outputs": [
    {
     "ename": "NameError",
     "evalue": "name 'SmartTCans' is not defined",
     "output_type": "error",
     "traceback": [
      "\u001b[0;31m---------------------------------------------------------------------------\u001b[0m",
      "\u001b[0;31mNameError\u001b[0m                                 Traceback (most recent call last)",
      "\u001b[0;32m<ipython-input-6-7806aa3f2f8d>\u001b[0m in \u001b[0;36m<module>\u001b[0;34m\u001b[0m\n\u001b[1;32m      1\u001b[0m \u001b[0;31m# Group the csv by neighbohood and sum up all of the trashcans by neighborhood\u001b[0m\u001b[0;34m\u001b[0m\u001b[0;34m\u001b[0m\u001b[0;34m\u001b[0m\u001b[0m\n\u001b[0;32m----> 2\u001b[0;31m \u001b[0mnum_cans\u001b[0m \u001b[0;34m=\u001b[0m \u001b[0mSmartTCans\u001b[0m\u001b[0;34m.\u001b[0m\u001b[0mgroupby\u001b[0m\u001b[0;34m(\u001b[0m\u001b[0;34m\"neighborhood\"\u001b[0m\u001b[0;34m)\u001b[0m\u001b[0;34m.\u001b[0m\u001b[0msum\u001b[0m\u001b[0;34m(\u001b[0m\u001b[0;34m)\u001b[0m\u001b[0;34m[\u001b[0m\u001b[0;34m'Number of Cans'\u001b[0m\u001b[0;34m]\u001b[0m\u001b[0;34m\u001b[0m\u001b[0;34m\u001b[0m\u001b[0m\n\u001b[0m\u001b[1;32m      3\u001b[0m \u001b[0mnum_cans\u001b[0m\u001b[0;34m.\u001b[0m\u001b[0msort_values\u001b[0m\u001b[0;34m(\u001b[0m\u001b[0mascending\u001b[0m\u001b[0;34m=\u001b[0m\u001b[0;32mTrue\u001b[0m\u001b[0;34m)\u001b[0m\u001b[0;34m\u001b[0m\u001b[0;34m\u001b[0m\u001b[0m\n",
      "\u001b[0;31mNameError\u001b[0m: name 'SmartTCans' is not defined"
     ]
    }
   ],
   "source": [
    "# Group the csv by neighbohood and sum up all of the trashcans by neighborhood\n",
    "num_cans = SmartTCans.groupby(\"neighborhood\").sum()['Number of Cans']\n",
    "num_cans.sort_values(ascending=True)"
   ]
  },
  {
   "cell_type": "markdown",
   "metadata": {},
   "source": [
    "#### As you can see, Shadyside has the most smart trash cans while several others have only one. However, this can mapped onto a map of Pittsburgh to show more accuratley the concentration of smart trash cans, to give us better context."
   ]
  },
  {
   "cell_type": "code",
   "execution_count": 7,
   "metadata": {},
   "outputs": [],
   "source": [
    "# Import geopandas and create a neighborhoods file\n",
    "import geopandas\n",
    "neighborhoods = geopandas.read_file(\"Neighborhoods/Neighborhoods_.shp\")"
   ]
  },
  {
   "cell_type": "code",
   "execution_count": 8,
   "metadata": {},
   "outputs": [
    {
     "ename": "NameError",
     "evalue": "name 'num_cans' is not defined",
     "output_type": "error",
     "traceback": [
      "\u001b[0;31m---------------------------------------------------------------------------\u001b[0m",
      "\u001b[0;31mNameError\u001b[0m                                 Traceback (most recent call last)",
      "\u001b[0;32m<ipython-input-8-51079a4a2184>\u001b[0m in \u001b[0;36m<module>\u001b[0;34m\u001b[0m\n\u001b[0;32m----> 1\u001b[0;31m \u001b[0mcans_map\u001b[0m \u001b[0;34m=\u001b[0m \u001b[0mneighborhoods\u001b[0m\u001b[0;34m.\u001b[0m\u001b[0mmerge\u001b[0m\u001b[0;34m(\u001b[0m\u001b[0mnum_cans\u001b[0m\u001b[0;34m,\u001b[0m \u001b[0mhow\u001b[0m\u001b[0;34m=\u001b[0m\u001b[0;34m'left'\u001b[0m\u001b[0;34m,\u001b[0m \u001b[0mleft_on\u001b[0m\u001b[0;34m=\u001b[0m\u001b[0;34m'hood'\u001b[0m\u001b[0;34m,\u001b[0m \u001b[0mright_on\u001b[0m\u001b[0;34m=\u001b[0m\u001b[0;34m'neighborhood'\u001b[0m\u001b[0;34m)\u001b[0m\u001b[0;34m\u001b[0m\u001b[0;34m\u001b[0m\u001b[0m\n\u001b[0m\u001b[1;32m      2\u001b[0m \u001b[0;31m# cans_map[['hood','Number of Cans','geometry']].head()\u001b[0m\u001b[0;34m\u001b[0m\u001b[0;34m\u001b[0m\u001b[0;34m\u001b[0m\u001b[0m\n",
      "\u001b[0;31mNameError\u001b[0m: name 'num_cans' is not defined"
     ]
    }
   ],
   "source": [
    "cans_map = neighborhoods.merge(num_cans, how='left', left_on='hood', right_on='neighborhood')\n",
    "# cans_map[['hood','Number of Cans','geometry']].head()"
   ]
  },
  {
   "cell_type": "code",
   "execution_count": 9,
   "metadata": {},
   "outputs": [
    {
     "ename": "NameError",
     "evalue": "name 'cans_map' is not defined",
     "output_type": "error",
     "traceback": [
      "\u001b[0;31m---------------------------------------------------------------------------\u001b[0m",
      "\u001b[0;31mNameError\u001b[0m                                 Traceback (most recent call last)",
      "\u001b[0;32m<ipython-input-9-13bcd3499ac0>\u001b[0m in \u001b[0;36m<module>\u001b[0;34m\u001b[0m\n\u001b[1;32m      1\u001b[0m \u001b[0;31m# Plots the concentration of trash cans\u001b[0m\u001b[0;34m\u001b[0m\u001b[0;34m\u001b[0m\u001b[0;34m\u001b[0m\u001b[0m\n\u001b[0;32m----> 2\u001b[0;31m cans_map.plot(column='Number of Cans', # set the data to be used for coloring\n\u001b[0m\u001b[1;32m      3\u001b[0m                \u001b[0mcmap\u001b[0m\u001b[0;34m=\u001b[0m\u001b[0;34m'YlGn'\u001b[0m\u001b[0;34m,\u001b[0m              \u001b[0;31m# choose a color palette\u001b[0m\u001b[0;34m\u001b[0m\u001b[0;34m\u001b[0m\u001b[0m\n\u001b[1;32m      4\u001b[0m                \u001b[0medgecolor\u001b[0m\u001b[0;34m=\u001b[0m\u001b[0;34m\"white\"\u001b[0m\u001b[0;34m,\u001b[0m        \u001b[0;31m# outline the districts in white\u001b[0m\u001b[0;34m\u001b[0m\u001b[0;34m\u001b[0m\u001b[0m\n\u001b[1;32m      5\u001b[0m                \u001b[0mlegend\u001b[0m\u001b[0;34m=\u001b[0m\u001b[0;32mTrue\u001b[0m\u001b[0;34m,\u001b[0m              \u001b[0;31m# show the legend\u001b[0m\u001b[0;34m\u001b[0m\u001b[0;34m\u001b[0m\u001b[0m\n",
      "\u001b[0;31mNameError\u001b[0m: name 'cans_map' is not defined"
     ]
    }
   ],
   "source": [
    "# Plots the concentration of trash cans\n",
    "cans_map.plot(column='Number of Cans', # set the data to be used for coloring\n",
    "               cmap='YlGn',              # choose a color palette\n",
    "               edgecolor=\"white\",        # outline the districts in white\n",
    "               legend=True,              # show the legend\n",
    "               legend_kwds={'label': \"Number of Smart Trash Cans\"}, # label the legend\n",
    "               figsize=(15, 10),         # set the size\n",
    "               missing_kwds={\"color\": \"lightgrey\"} # set districts with no data to gray\n",
    "               )"
   ]
  },
  {
   "cell_type": "markdown",
   "metadata": {},
   "source": [
    "# Final Analysis\n",
    "It seems that ShadySide had the most smart trash cans with 77; whereas, neighborhoods such as East Carnegie and Mt. Oliver have 1 smart trash can total. Now, judging by the map, Shadyside has one of the most, if not the most, area out all of the other neighborhoods, and so it makes sense that Shadyside will have the most smart trash cans. However, this works to its advantage as to cover and maintain this large area the labor force musn't have to unncessarily waste their time emptying many trash cans. So, the use of smart trash cans allows them to spend more time tidying Shadyside. "
   ]
  }
 ],
 "metadata": {
  "kernelspec": {
   "display_name": "Python 3",
   "language": "python",
   "name": "python3"
  },
  "language_info": {
   "codemirror_mode": {
    "name": "ipython",
    "version": 3
   },
   "file_extension": ".py",
   "mimetype": "text/x-python",
   "name": "python",
   "nbconvert_exporter": "python",
   "pygments_lexer": "ipython3",
   "version": "3.8.3"
  }
 },
 "nbformat": 4,
 "nbformat_minor": 4
}
